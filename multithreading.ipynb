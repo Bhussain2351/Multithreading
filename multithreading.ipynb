{
 "cells": [
  {
   "cell_type": "code",
   "execution_count": 1,
   "id": "cf6893c7-e810-4ed5-9dec-efd68f45420e",
   "metadata": {},
   "outputs": [],
   "source": [
    "# Multithreading is defined as the ability of a processor to execute multiple threads concurrently. \n",
    "# In a simple, single-core CPU, it is achieved using frequent switching between threads.\n",
    "\n",
    "# Python multithreading enables efficient utilization of the resources as the threads share the data space and memory\n",
    "# the threading module are used to handle thread in python"
   ]
  },
  {
   "cell_type": "code",
   "execution_count": 3,
   "id": "a7029dd7-4b74-4133-ad02-52480363071b",
   "metadata": {},
   "outputs": [],
   "source": [
    "# The threading module allows multiple threads of execution to take place in a Python program. \n",
    "# While threads may appear to run simultaneously, only one thread can be executed at a time.\n",
    "\n",
    "#activeCount()\n",
    "\n",
    "#Python, the method threading. active_count() from the threading module is used to count the currently active or running threads.\n",
    "\n",
    "#Current Thread()\n",
    "\n",
    "# We use the threading.current_thread() function to get the current thread object\n",
    "\n",
    "# Enumerate()\n",
    "\n",
    "# when dealing with iterators, we also need to keep a count of iterations. \n",
    "# Python eases the programmers’ task by providing a built-in function enumerate() for this task.\n",
    "\n",
    "# Syntax: enumerate(iterable, start=0)\n",
    "\n",
    "# Parameters:\n",
    "\n",
    "# Iterable: any object that supports iteration\n",
    "# Start: the index value from which the counter is to be started, by default it is 0"
   ]
  },
  {
   "cell_type": "code",
   "execution_count": null,
   "id": "5d9e5e9b-0798-4d09-a71e-87d511fb5799",
   "metadata": {},
   "outputs": [],
   "source": [
    "#run() uses\n",
    "\n",
    "# The standard run() method invokes the callable object passed to the object's constructor as the target argument,\n",
    "# if any, with positional and keyword arguments taken from the args and kwargs arguments, respectively."
   ]
  },
  {
   "cell_type": "code",
   "execution_count": null,
   "id": "5fd626ee-b8ab-478c-903f-0509e1a82a2f",
   "metadata": {},
   "outputs": [],
   "source": [
    "# Once a thread object is created, its activity must be started by calling the thread's start() method. This invokes the run() \n",
    "# method in a separate thread of control. Once the thread's activity is started, the thread is considered 'alive'."
   ]
  },
  {
   "cell_type": "code",
   "execution_count": 7,
   "id": "6c6dda9b-3d06-48e5-be72-c9c594402b81",
   "metadata": {},
   "outputs": [],
   "source": [
    "import threading"
   ]
  },
  {
   "cell_type": "code",
   "execution_count": 3,
   "id": "46bf6fd9-97af-4976-b7fe-1cdb5d9f7fa3",
   "metadata": {},
   "outputs": [],
   "source": [
    "l=[1,2,3,4,5]"
   ]
  },
  {
   "cell_type": "code",
   "execution_count": 4,
   "id": "97469478-b2a0-4604-a949-395150e0d928",
   "metadata": {},
   "outputs": [],
   "source": [
    "def square(l):\n",
    "    return l**2"
   ]
  },
  {
   "cell_type": "code",
   "execution_count": 5,
   "id": "69e053c8-f508-4fe1-92dd-5e60b0b0fccc",
   "metadata": {},
   "outputs": [],
   "source": [
    "def cube (l):\n",
    "    return l**3"
   ]
  },
  {
   "cell_type": "code",
   "execution_count": 8,
   "id": "83ca93cc-60f7-4be0-9b45-c1fb16574818",
   "metadata": {},
   "outputs": [],
   "source": [
    "thread=[threading.Thread(target=square,args=(i,)) for i in range(len(l))]\n",
    "        "
   ]
  },
  {
   "cell_type": "code",
   "execution_count": 13,
   "id": "dead10a1-c518-4caa-9047-c2c716899481",
   "metadata": {},
   "outputs": [],
   "source": [
    "thread1=[threading.Thread(target=cube,args=(i,)) for i in range(len(l))]"
   ]
  },
  {
   "cell_type": "code",
   "execution_count": null,
   "id": "448c4fc1-af28-444b-af62-94d8015d8588",
   "metadata": {},
   "outputs": [],
   "source": [
    "# Advantages of multithreading in python"
   ]
  },
  {
   "cell_type": "code",
   "execution_count": null,
   "id": "29e8a50f-4790-4a29-ac9c-dab754841681",
   "metadata": {},
   "outputs": [],
   "source": [
    "# Lightweight: Threads are relatively lightweight, as they share the same memory space. \n",
    "# The creation and management of threads is generally faster and requires less overhead than the creation of processes.\n",
    "# Resource Sharing: Using shared resources makes it easy to communicate and synchronize between threads within the same process.\n",
    "# Simplified Code: Threads simplify the design of concurrent programs, especially for I/O-bound tasks, since they run asynchronously, \n",
    "#allowing other tasks to be executed while waiting for I/O operations to complete."
   ]
  },
  {
   "cell_type": "code",
   "execution_count": 36,
   "id": "03e2d509-1f3b-4917-8b04-5b83710b7ebe",
   "metadata": {},
   "outputs": [],
   "source": [
    "#Disadvantages of Multithreading"
   ]
  },
  {
   "cell_type": "code",
   "execution_count": null,
   "id": "fead6702-04bc-4e09-8ef3-bf9cf2d61be8",
   "metadata": {},
   "outputs": [],
   "source": [
    "# Debugging Complexity: Multi-threaded programs can be difficult to debug due to non-deterministic behavior and race conditions.\n",
    "# Limited CPU Utilization: Because of the GIL, CPU-bound tasks don't benefit significantly from threading because multiple threads can't efficiently utilize multiple CPU cores.\n",
    "# Memory Overhead: If memory is not managed properly, threads may share the same space, leading to data corruption and unintended consequences.\n",
    "# Platform Dependence: Python modules may not be thread-safe or behave differently on different platforms."
   ]
  },
  {
   "cell_type": "code",
   "execution_count": null,
   "id": "ed168b3a-2558-4064-980c-c879ca6e800f",
   "metadata": {},
   "outputs": [],
   "source": [
    "# A race condition occurs when two threads use the same variable at a given time.\n",
    "# Deadlock exists when two threads seek one lock simultaneously."
   ]
  }
 ],
 "metadata": {
  "kernelspec": {
   "display_name": "Python 3 (ipykernel)",
   "language": "python",
   "name": "python3"
  },
  "language_info": {
   "codemirror_mode": {
    "name": "ipython",
    "version": 3
   },
   "file_extension": ".py",
   "mimetype": "text/x-python",
   "name": "python",
   "nbconvert_exporter": "python",
   "pygments_lexer": "ipython3",
   "version": "3.10.8"
  }
 },
 "nbformat": 4,
 "nbformat_minor": 5
}
